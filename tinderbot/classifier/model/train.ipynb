{
 "cells": [
  {
   "cell_type": "code",
   "execution_count": 1,
   "metadata": {},
   "outputs": [
    {
     "name": "stdout",
     "output_type": "stream",
     "text": [
      "Populating the interactive namespace from numpy and matplotlib\n"
     ]
    }
   ],
   "source": [
    "import os, sys\n",
    "%pylab inline\n",
    "import face_recognition\n",
    "from matplotlib.pyplot import imshow\n",
    "import numpy as np\n",
    "from PIL import Image, ImageDraw\n",
    "import pandas as pd\n",
    "from IPython.display import display\n",
    "import pathlib\n",
    "import pickle\n",
    "from sklearn.decomposition import PCA\n",
    "from sklearn.model_selection import train_test_split"
   ]
  },
  {
   "cell_type": "markdown",
   "metadata": {},
   "source": [
    "### Load the landmarks_attractive data"
   ]
  },
  {
   "cell_type": "code",
   "execution_count": 2,
   "metadata": {},
   "outputs": [],
   "source": [
    "landmark_attractive_df = pd.read_pickle(\"./landmarks_attractive_dataframe.pkl\")"
   ]
  },
  {
   "cell_type": "code",
   "execution_count": 3,
   "metadata": {
    "scrolled": true
   },
   "outputs": [
    {
     "data": {
      "text/html": [
       "<div>\n",
       "<style scoped>\n",
       "    .dataframe tbody tr th:only-of-type {\n",
       "        vertical-align: middle;\n",
       "    }\n",
       "\n",
       "    .dataframe tbody tr th {\n",
       "        vertical-align: top;\n",
       "    }\n",
       "\n",
       "    .dataframe thead th {\n",
       "        text-align: right;\n",
       "    }\n",
       "</style>\n",
       "<table border=\"1\" class=\"dataframe\">\n",
       "  <thead>\n",
       "    <tr style=\"text-align: right;\">\n",
       "      <th></th>\n",
       "      <th>chin</th>\n",
       "      <th>left_eyebrow</th>\n",
       "      <th>right_eyebrow</th>\n",
       "      <th>nose_bridge</th>\n",
       "      <th>nose_tip</th>\n",
       "      <th>left_eye</th>\n",
       "      <th>right_eye</th>\n",
       "      <th>top_lip</th>\n",
       "      <th>bottom_lip</th>\n",
       "      <th>attractive</th>\n",
       "    </tr>\n",
       "  </thead>\n",
       "  <tbody>\n",
       "    <tr>\n",
       "      <th>0</th>\n",
       "      <td>[(0.33146067415730335, 0.518348623853211), (0....</td>\n",
       "      <td>[(0.3202247191011236, 0.44954128440366975), (0...</td>\n",
       "      <td>[(0.5, 0.48623853211009177), (0.55617977528089...</td>\n",
       "      <td>[(0.4550561797752809, 0.5229357798165137), (0....</td>\n",
       "      <td>[(0.4044943820224719, 0.6559633027522935), (0....</td>\n",
       "      <td>[(0.3539325842696629, 0.5045871559633027), (0....</td>\n",
       "      <td>[(0.5449438202247191, 0.536697247706422), (0.5...</td>\n",
       "      <td>[(0.398876404494382, 0.6926605504587156), (0.4...</td>\n",
       "      <td>[(0.6123595505617978, 0.7110091743119266), (0....</td>\n",
       "      <td>1</td>\n",
       "    </tr>\n",
       "  </tbody>\n",
       "</table>\n",
       "</div>"
      ],
      "text/plain": [
       "                                                chin  \\\n",
       "0  [(0.33146067415730335, 0.518348623853211), (0....   \n",
       "\n",
       "                                        left_eyebrow  \\\n",
       "0  [(0.3202247191011236, 0.44954128440366975), (0...   \n",
       "\n",
       "                                       right_eyebrow  \\\n",
       "0  [(0.5, 0.48623853211009177), (0.55617977528089...   \n",
       "\n",
       "                                         nose_bridge  \\\n",
       "0  [(0.4550561797752809, 0.5229357798165137), (0....   \n",
       "\n",
       "                                            nose_tip  \\\n",
       "0  [(0.4044943820224719, 0.6559633027522935), (0....   \n",
       "\n",
       "                                            left_eye  \\\n",
       "0  [(0.3539325842696629, 0.5045871559633027), (0....   \n",
       "\n",
       "                                           right_eye  \\\n",
       "0  [(0.5449438202247191, 0.536697247706422), (0.5...   \n",
       "\n",
       "                                             top_lip  \\\n",
       "0  [(0.398876404494382, 0.6926605504587156), (0.4...   \n",
       "\n",
       "                                          bottom_lip  attractive  \n",
       "0  [(0.6123595505617978, 0.7110091743119266), (0....           1  "
      ]
     },
     "execution_count": 3,
     "metadata": {},
     "output_type": "execute_result"
    }
   ],
   "source": [
    "landmark_attractive_df.head(1)"
   ]
  },
  {
   "cell_type": "markdown",
   "metadata": {},
   "source": [
    "### Get a big list of all points"
   ]
  },
  {
   "cell_type": "code",
   "execution_count": 4,
   "metadata": {},
   "outputs": [],
   "source": [
    "extended_coordinates_list = []\n",
    "for idx, row in enumerate(landmark_attractive_df.iterrows()):\n",
    "    extended_list = []\n",
    "    row = row[1][:-1]\n",
    "    for lst in row:\n",
    "        extended_list.extend(lst)\n",
    "    extended_coordinates_list.append(extended_list)\n"
   ]
  },
  {
   "cell_type": "code",
   "execution_count": 5,
   "metadata": {},
   "outputs": [
    {
     "data": {
      "text/plain": [
       "196999"
      ]
     },
     "execution_count": 5,
     "metadata": {},
     "output_type": "execute_result"
    }
   ],
   "source": [
    "len(extended_coordinates_list)"
   ]
  },
  {
   "cell_type": "markdown",
   "metadata": {},
   "source": [
    "### Get distance between every landmark point will all others"
   ]
  },
  {
   "cell_type": "code",
   "execution_count": 6,
   "metadata": {},
   "outputs": [],
   "source": [
    "import math\n",
    "\n",
    "features = []\n",
    "for list_index, coordinate_lst in enumerate(extended_coordinates_list):\n",
    "    distances = []\n",
    "    num_of_points = len(coordinate_lst)\n",
    "    idx = 0\n",
    "    while (idx < num_of_points):\n",
    "        current_point = coordinate_lst[idx]\n",
    "        for point_index in range(idx+1,num_of_points):\n",
    "            temp_point = coordinate_lst[point_index]\n",
    "            distance = math.sqrt((current_point[0]-temp_point[0])**2 + (current_point[1]-temp_point[1])**2)\n",
    "            distances.append(distance)\n",
    "        idx += 1\n",
    "    features.append(distances)"
   ]
  },
  {
   "cell_type": "code",
   "execution_count": 7,
   "metadata": {},
   "outputs": [
    {
     "data": {
      "text/plain": [
       "2556"
      ]
     },
     "execution_count": 7,
     "metadata": {},
     "output_type": "execute_result"
    }
   ],
   "source": [
    "len((features[0]))"
   ]
  },
  {
   "cell_type": "markdown",
   "metadata": {},
   "source": [
    "### Split data"
   ]
  },
  {
   "cell_type": "code",
   "execution_count": 8,
   "metadata": {},
   "outputs": [],
   "source": [
    "X = features\n",
    "y = landmark_attractive_df['attractive']\n",
    "X_train, X_test, y_train, y_test = train_test_split(X, y, test_size=0.33, random_state=42)"
   ]
  },
  {
   "cell_type": "code",
   "execution_count": 9,
   "metadata": {},
   "outputs": [
    {
     "name": "stdout",
     "output_type": "stream",
     "text": [
      "Lenght of X_train: 131989, Length of X_test: 65010\n"
     ]
    }
   ],
   "source": [
    "print(\"Lenght of X_train: {}, Length of X_test: {}\".format(len(X_train), len(X_test)))"
   ]
  },
  {
   "cell_type": "markdown",
   "metadata": {},
   "source": [
    "### Perform 95% PCA"
   ]
  },
  {
   "cell_type": "code",
   "execution_count": null,
   "metadata": {},
   "outputs": [],
   "source": [
    "pca = PCA(0.95) # get components that explain 95% variance\n",
    "pca.fit(X_train)"
   ]
  },
  {
   "cell_type": "code",
   "execution_count": null,
   "metadata": {},
   "outputs": [],
   "source": [
    "X_train = pca.transform(X_train)\n",
    "X_test = pca.transform(X_test)"
   ]
  },
  {
   "cell_type": "markdown",
   "metadata": {},
   "source": [
    "# Use Models"
   ]
  },
  {
   "cell_type": "markdown",
   "metadata": {},
   "source": [
    "### Logistic Regression"
   ]
  },
  {
   "cell_type": "code",
   "execution_count": 12,
   "metadata": {},
   "outputs": [],
   "source": [
    "from sklearn.linear_model import LogisticRegression\n",
    "log_regressor = LogisticRegression(random_state=0).fit(X_train, y_train)"
   ]
  },
  {
   "cell_type": "code",
   "execution_count": 13,
   "metadata": {},
   "outputs": [],
   "source": [
    "train_score = log_regressor.score(X_train, y_train)\n",
    "test_score = log_regressor.score(X_test, y_test)"
   ]
  },
  {
   "cell_type": "code",
   "execution_count": 14,
   "metadata": {},
   "outputs": [
    {
     "name": "stdout",
     "output_type": "stream",
     "text": [
      "Training Score: 0.6603732129192584\n",
      "Test Score: 0.6555453007229657\n"
     ]
    }
   ],
   "source": [
    "print(\"Training Score: {}\".format(train_score))\n",
    "print(\"Test Score: {}\".format(test_score))"
   ]
  },
  {
   "cell_type": "markdown",
   "metadata": {},
   "source": [
    "### KNN"
   ]
  },
  {
   "cell_type": "code",
   "execution_count": 17,
   "metadata": {},
   "outputs": [
    {
     "data": {
      "text/plain": [
       "KNeighborsClassifier()"
      ]
     },
     "execution_count": 17,
     "metadata": {},
     "output_type": "execute_result"
    }
   ],
   "source": [
    "from sklearn import neighbors\n",
    "n_neighbors = 5\n",
    "knn = neighbors.KNeighborsClassifier(n_neighbors)\n",
    "knn.fit(X_train,y_train)"
   ]
  },
  {
   "cell_type": "code",
   "execution_count": 18,
   "metadata": {},
   "outputs": [],
   "source": [
    "train_score = knn.score(X_train, y_train)\n",
    "test_score = knn.score(X_test, y_test)"
   ]
  },
  {
   "cell_type": "code",
   "execution_count": 19,
   "metadata": {},
   "outputs": [
    {
     "name": "stdout",
     "output_type": "stream",
     "text": [
      "Training Score: 0.7553129427452288\n",
      "Test Score: 0.6377941855099215\n"
     ]
    }
   ],
   "source": [
    "print(\"Training Score: {}\".format(train_score))\n",
    "print(\"Test Score: {}\".format(test_score))"
   ]
  },
  {
   "cell_type": "markdown",
   "metadata": {},
   "source": [
    "### SVM"
   ]
  },
  {
   "cell_type": "code",
   "execution_count": null,
   "metadata": {},
   "outputs": [],
   "source": [
    "from sklearn import svm\n",
    "svm = svm.SVC()\n",
    "svm.fit(X_train, y_train)"
   ]
  },
  {
   "cell_type": "code",
   "execution_count": null,
   "metadata": {},
   "outputs": [],
   "source": [
    "train_score = svm.score(X_train, y_train)\n",
    "test_score = svm.score(X_test, y_test)"
   ]
  },
  {
   "cell_type": "code",
   "execution_count": null,
   "metadata": {},
   "outputs": [],
   "source": [
    "print(\"Training Score: {}\".format(train_score))\n",
    "print(\"Test Score: {}\".format(test_score))"
   ]
  },
  {
   "cell_type": "code",
   "execution_count": null,
   "metadata": {},
   "outputs": [],
   "source": []
  }
 ],
 "metadata": {
  "kernelspec": {
   "display_name": "Python 3",
   "language": "python",
   "name": "python3"
  },
  "language_info": {
   "codemirror_mode": {
    "name": "ipython",
    "version": 3
   },
   "file_extension": ".py",
   "mimetype": "text/x-python",
   "name": "python",
   "nbconvert_exporter": "python",
   "pygments_lexer": "ipython3",
   "version": "3.8.5"
  }
 },
 "nbformat": 4,
 "nbformat_minor": 4
}
